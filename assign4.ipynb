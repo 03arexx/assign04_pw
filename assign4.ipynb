{
 "cells": [
  {
   "cell_type": "markdown",
   "id": "4f923619-c7aa-4f84-ac43-9dcf046ce280",
   "metadata": {},
   "source": [
    " Q1. Create a python program to sort the given list of tuples based on integer value using a \n",
    "lambda function. \n",
    "\n",
    "[('Sachin Tendulkar', 34357), ('Ricky Ponting', 27483), ('Jack Kallis', 25534), ('Virat Kohli', 24936)]"
   ]
  },
  {
   "cell_type": "code",
   "execution_count": 5,
   "id": "6b5ef756-3605-49c8-8ad4-ddce1e922e5b",
   "metadata": {},
   "outputs": [],
   "source": [
    "a=[('Sachin Tendulkar', 34357), ('Ricky Ponting', 27483), ('Jack Kallis', 25534), ('Virat Kohli', 24936)]"
   ]
  },
  {
   "cell_type": "code",
   "execution_count": 6,
   "id": "6e61df39-04db-4c48-8be1-0a8c60e9302d",
   "metadata": {},
   "outputs": [],
   "source": [
    "p=lambda a:sorted(a)"
   ]
  },
  {
   "cell_type": "code",
   "execution_count": 7,
   "id": "b09e9530-e87e-43ab-afcb-2224a5937a3e",
   "metadata": {},
   "outputs": [
    {
     "data": {
      "text/plain": [
       "[('Jack Kallis', 25534),\n",
       " ('Ricky Ponting', 27483),\n",
       " ('Sachin Tendulkar', 34357),\n",
       " ('Virat Kohli', 24936)]"
      ]
     },
     "execution_count": 7,
     "metadata": {},
     "output_type": "execute_result"
    }
   ],
   "source": [
    "p(a)"
   ]
  },
  {
   "cell_type": "markdown",
   "id": "bc353a02-ef12-44de-89ba-de0993b6e8da",
   "metadata": {},
   "source": [
    "Q2. Write a Python Program to find the squares of all the numbers in the given list of integers using \n",
    "lambda and map functions.\n",
    "\n",
    "\n",
    "[1, 2, 3, 4, 5, 6, 7, 8, 9, 10]"
   ]
  },
  {
   "cell_type": "code",
   "execution_count": 15,
   "id": "7e67935d-d141-4bb2-bc82-027dd9f8e10c",
   "metadata": {},
   "outputs": [
    {
     "name": "stdout",
     "output_type": "stream",
     "text": [
      "(1, 4, 9, 16, 25, 36, 49, 64, 81, 100)\n"
     ]
    }
   ],
   "source": [
    "#numbers = [1, 2, 3, 4, 5, 6, 7, 8, 9, 10]\n",
    "squares =tuple (map(lambda x: x**2, [1, 2, 3, 4, 5, 6, 7, 8, 9, 10]))\n",
    "print(squares)\n"
   ]
  },
  {
   "cell_type": "markdown",
   "id": "9c9bca2f-9007-4fb2-a1a9-df7caa0591a1",
   "metadata": {},
   "source": [
    "Q3. Write a python program to convert the given list of integers into a tuple of strings. Use map and \n",
    "lambda functions\n",
    "\n",
    "\n",
    "Given String: [1, 2, 3, 4, 5, 6, 7, 8, 9, 10]\n",
    "\n",
    "Expected output: ('1', '2', '3', '4', '5', '6', '7', '8', '9', '10')"
   ]
  },
  {
   "cell_type": "code",
   "execution_count": 20,
   "id": "2a0cbe43-0fa8-4af6-ae1e-bb561c956add",
   "metadata": {},
   "outputs": [
    {
     "name": "stdout",
     "output_type": "stream",
     "text": [
      "('1', '2', '3', '4', '5', '6', '7', '8', '9', '10')\n"
     ]
    }
   ],
   "source": [
    "list=[1, 2, 3, 4, 5, 6, 7, 8, 9, 10]\n",
    "a=tuple(map(lambda x:str(x),list))\n",
    "print(a)"
   ]
  },
  {
   "cell_type": "markdown",
   "id": "4514c26c-d683-4d10-938b-048e893247e2",
   "metadata": {},
   "source": [
    "Q4.  Write a python program using reduce function to compute the product of a list containing numbers \n",
    "from 1 to 25"
   ]
  },
  {
   "cell_type": "code",
   "execution_count": 24,
   "id": "4461bca4-6621-4d13-921e-e2f35439b56d",
   "metadata": {},
   "outputs": [
    {
     "name": "stdout",
     "output_type": "stream",
     "text": [
      "15511210043330985984000000\n"
     ]
    }
   ],
   "source": [
    "list=[1,2,3,4,5,6,7,8,9,10,11,12,13,14,15,16,17,18,19,20,21,22,23,24,25]\n",
    "from functools import reduce\n",
    "a=reduce(lambda x,y:x*y,list)\n",
    "print(a)"
   ]
  },
  {
   "cell_type": "markdown",
   "id": "ce01019c-6208-4c03-b2a6-46a0c384d283",
   "metadata": {},
   "source": [
    "Q5. Write a python program to filter the numbers in a given list that are divisible by 2 and 3 using the \n",
    "filter function.\n",
    "\n",
    "\n",
    "[2, 3, 6, 9, 27, 60, 90, 120, 55, 46]"
   ]
  },
  {
   "cell_type": "code",
   "execution_count": 29,
   "id": "40f89906-6a80-4ba9-8e33-a10e5e857a10",
   "metadata": {},
   "outputs": [
    {
     "name": "stdout",
     "output_type": "stream",
     "text": [
      "(2, 6, 60, 90, 120, 46) (3, 6, 9, 27, 60, 90, 120)\n"
     ]
    }
   ],
   "source": [
    "list=[2, 3, 6, 9, 27, 60, 90, 120, 55, 46]\n",
    "a=tuple(filter(lambda x:x%2==0,list))\n",
    "b=tuple(filter(lambda x:x%3==0,list))\n",
    "print(a,b)"
   ]
  },
  {
   "cell_type": "markdown",
   "id": "263fb0e4-44aa-4389-b430-3ada9e8fa7e3",
   "metadata": {},
   "source": [
    "Q6. Write a python program to find palindromes in the given list of strings using lambda and filter \n",
    "function.\n",
    "\n",
    "\n",
    "['python', 'php', 'aba', 'radar', 'level']\n"
   ]
  },
  {
   "cell_type": "code",
   "execution_count": 31,
   "id": "704b0709-9414-4ace-a207-0ec530cc355c",
   "metadata": {},
   "outputs": [
    {
     "name": "stdout",
     "output_type": "stream",
     "text": [
      "('php', 'aba', 'radar', 'level')\n"
     ]
    }
   ],
   "source": [
    "list=['python', 'php', 'aba', 'radar', 'level']\n",
    "a=tuple(filter(lambda x:x==x[::-1],list))\n",
    "print(a)"
   ]
  },
  {
   "cell_type": "code",
   "execution_count": null,
   "id": "3c0490bb-f0c4-4225-9334-e7fc0f28b9fa",
   "metadata": {},
   "outputs": [],
   "source": []
  }
 ],
 "metadata": {
  "kernelspec": {
   "display_name": "Python 3 (ipykernel)",
   "language": "python",
   "name": "python3"
  },
  "language_info": {
   "codemirror_mode": {
    "name": "ipython",
    "version": 3
   },
   "file_extension": ".py",
   "mimetype": "text/x-python",
   "name": "python",
   "nbconvert_exporter": "python",
   "pygments_lexer": "ipython3",
   "version": "3.10.8"
  }
 },
 "nbformat": 4,
 "nbformat_minor": 5
}
